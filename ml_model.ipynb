{
 "cells": [
  {
   "cell_type": "markdown",
   "metadata": {
    "id": "V6-OBUVeddJM"
   },
   "source": [
    "## 0. Business Understanding / Business Model\n",
    "\n",
    "- Airbnb was founded in 2017 and is an online platform that provide services to travellers and local host\n",
    "-- Travellers: Book airbnb online \n",
    "-- Localhost: List empty / unliving space for rent\n",
    "- After a booking is complete, airbnb make money from 3% transaction fee from travellers and 10% home rent from local host"
   ]
  },
  {
   "cell_type": "code",
   "execution_count": 56,
   "metadata": {
    "id": "STH2JPWdZH-j"
   },
   "outputs": [],
   "source": [
    "# import libraries\n",
    "import numpy as np\n",
    "import pandas as pd\n",
    "import matplotlib.pyplot as plt\n",
    "import seaborn as sns\n",
    "from datetime import datetime\n",
    "from sklearn.preprocessing import LabelEncoder\n",
    "from sklearn import preprocessing\n",
    "from sklearn.model_selection import train_test_split\n",
    "from sklearn.metrics import mean_squared_error, r2_score\n",
    "from sklearn.linear_model import LinearRegression\n",
    "# for saving algorithm and preprocessing objects\n",
    "import pickle \n",
    "%matplotlib inline"
   ]
  },
  {
   "cell_type": "code",
   "execution_count": 2,
   "metadata": {
    "id": "zlpfZEowZH-q"
   },
   "outputs": [],
   "source": [
    "lst = pd.read_csv('./Boston/listings.csv')\n",
    "cal = pd.read_csv('./Boston/calendar.csv')"
   ]
  },
  {
   "cell_type": "markdown",
   "metadata": {
    "id": "wsefCWzPZH-q"
   },
   "source": [
    "### 1. Data Cleaning"
   ]
  },
  {
   "cell_type": "code",
   "execution_count": 6,
   "metadata": {
    "id": "A2PLW8SgZH-r"
   },
   "outputs": [],
   "source": [
    "  ''' \n",
    "  Param - dataframe\n",
    "  drop any column that has solely only 1 value counts or\n",
    "  more than 75% or nan / null value\n",
    "  ''' \n",
    "def drop_na(df):\n",
    "    for col in df.columns:\n",
    "        if (df[col].isnull().sum()/df.shape[0] > 0.75) or (len(df[col].value_counts()) < 2):\n",
    "            df.drop(col, axis=1, inplace=True)\n",
    "            print(col + ' dropped')\n",
    "    return None"
   ]
  },
  {
   "cell_type": "code",
   "execution_count": 8,
   "metadata": {
    "id": "e9Wo2x9WZH-r"
   },
   "outputs": [],
   "source": [
    "  '''\n",
    "  param: dataframe, feature string \n",
    "  loop through columns in df, if the feat is in\n",
    "  '''\n",
    "def drop_col(df, feature):\n",
    "    for col in df.columns:\n",
    "        if feature in col:\n",
    "            df.drop(col, axis=1, inplace=True)\n",
    "            print(col + ' dropped')\n",
    "    return None"
   ]
  },
  {
   "cell_type": "code",
   "execution_count": 9,
   "metadata": {
    "id": "y_oaIa97ZH-r"
   },
   "outputs": [],
   "source": [
    "  '''\n",
    "  param: price string\n",
    "  convert price from $xx to float() type\n",
    "  '''\n",
    "def price_conv(x):\n",
    "    return float(x[1:].replace(',',''))\n",
    "                 \n",
    "lst['price'].fillna('$0', inplace=True)\n",
    "cal['price'].fillna('$0', inplace=True)\n",
    "                                \n",
    "lst['price'] = lst['price'].apply(price_conv)\n",
    "cal['price'] = cal['price'].apply(price_conv)                 "
   ]
  },
  {
   "cell_type": "code",
   "execution_count": 11,
   "metadata": {
    "id": "c_ae9hWCZH-s"
   },
   "outputs": [],
   "source": [
    "  '''\n",
    "  convert rate to float\n",
    "  %xx -> float()\n",
    "  '''\n",
    "def rate_conv(x):\n",
    "    return float(x[:-1])"
   ]
  },
  {
   "cell_type": "code",
   "execution_count": 12,
   "metadata": {
    "id": "lVH9griZZH-s",
    "outputId": "1b153414-84b1-40f7-a0bf-ef5b6085e306"
   },
   "outputs": [
    {
     "name": "stdout",
     "output_type": "stream",
     "text": [
      "scrape_id dropped\n",
      "last_scraped dropped\n",
      "experiences_offered dropped\n",
      "neighbourhood_group_cleansed dropped\n",
      "state dropped\n",
      "country_code dropped\n",
      "country dropped\n",
      "square_feet dropped\n",
      "weekly_price dropped\n",
      "monthly_price dropped\n",
      "has_availability dropped\n",
      "calendar_last_scraped dropped\n",
      "requires_license dropped\n",
      "license dropped\n",
      "jurisdiction_names dropped\n"
     ]
    }
   ],
   "source": [
    "## Drop any columns that has only 1 value count / more than 75% of null entries\n",
    "drop_na(lst)\n",
    "drop_na(cal)"
   ]
  },
  {
   "cell_type": "code",
   "execution_count": 13,
   "metadata": {
    "id": "WyvUOFk5ZH-t",
    "outputId": "af971c04-5d24-4642-8edf-bb356451fe23"
   },
   "outputs": [
    {
     "data": {
      "text/plain": [
       "Index(['id', 'listing_url', 'name', 'summary', 'space', 'description',\n",
       "       'neighborhood_overview', 'notes', 'transit', 'access', 'interaction',\n",
       "       'house_rules', 'thumbnail_url', 'medium_url', 'picture_url',\n",
       "       'xl_picture_url', 'host_id', 'host_url', 'host_name', 'host_since',\n",
       "       'host_location', 'host_about', 'host_response_time',\n",
       "       'host_response_rate', 'host_acceptance_rate', 'host_is_superhost',\n",
       "       'host_thumbnail_url', 'host_picture_url', 'host_neighbourhood',\n",
       "       'host_listings_count', 'host_total_listings_count',\n",
       "       'host_verifications', 'host_has_profile_pic', 'host_identity_verified',\n",
       "       'street', 'neighbourhood', 'neighbourhood_cleansed', 'city', 'zipcode',\n",
       "       'market', 'smart_location', 'latitude', 'longitude',\n",
       "       'is_location_exact', 'property_type', 'room_type', 'accommodates',\n",
       "       'bathrooms', 'bedrooms', 'beds', 'bed_type', 'amenities', 'price',\n",
       "       'security_deposit', 'cleaning_fee', 'guests_included', 'extra_people',\n",
       "       'minimum_nights', 'maximum_nights', 'calendar_updated',\n",
       "       'availability_30', 'availability_60', 'availability_90',\n",
       "       'availability_365', 'number_of_reviews', 'first_review', 'last_review',\n",
       "       'review_scores_rating', 'review_scores_accuracy',\n",
       "       'review_scores_cleanliness', 'review_scores_checkin',\n",
       "       'review_scores_communication', 'review_scores_location',\n",
       "       'review_scores_value', 'instant_bookable', 'cancellation_policy',\n",
       "       'require_guest_profile_picture', 'require_guest_phone_verification',\n",
       "       'calculated_host_listings_count', 'reviews_per_month'],\n",
       "      dtype='object')"
      ]
     },
     "execution_count": 13,
     "metadata": {},
     "output_type": "execute_result"
    }
   ],
   "source": [
    "# Check to see if there's any column left and start cleaning data \n",
    "lst.columns"
   ]
  },
  {
   "cell_type": "code",
   "execution_count": 14,
   "metadata": {
    "id": "qxzdTC59ZH-t",
    "outputId": "325ef78c-8daa-4b4f-c636-efeef5f15fe7"
   },
   "outputs": [
    {
     "name": "stdout",
     "output_type": "stream",
     "text": [
      "listing_url dropped\n",
      "thumbnail_url dropped\n",
      "medium_url dropped\n",
      "picture_url dropped\n",
      "xl_picture_url dropped\n",
      "host_url dropped\n",
      "host_thumbnail_url dropped\n",
      "host_picture_url dropped\n",
      "id dropped\n",
      "host_id dropped\n",
      "host_identity_verified dropped\n"
     ]
    }
   ],
   "source": [
    "# Since url and id is very unique and can't be further evaluate\n",
    "drop_col(lst, 'url')\n",
    "drop_col(lst, 'id')"
   ]
  },
  {
   "cell_type": "code",
   "execution_count": 15,
   "metadata": {
    "id": "e71PyLwKZH-v",
    "outputId": "9331363f-bd11-4ec6-eea9-58e225e792f1"
   },
   "outputs": [
    {
     "name": "stdout",
     "output_type": "stream",
     "text": [
      "require_guest_profile_picture dropped\n",
      "require_guest_phone_verification dropped\n"
     ]
    }
   ],
   "source": [
    "# Don't need any requirements such as id since it doesn't affect price much\n",
    "drop_col(lst, 'require')"
   ]
  },
  {
   "cell_type": "code",
   "execution_count": 16,
   "metadata": {
    "id": "nJzmBjaOZH-v",
    "outputId": "e9423e29-d873-4184-971f-308636692296"
   },
   "outputs": [
    {
     "name": "stdout",
     "output_type": "stream",
     "text": [
      "name dropped\n",
      "host_name dropped\n"
     ]
    }
   ],
   "source": [
    "# Don't need names, to specific\n",
    "drop_col(lst, 'name')"
   ]
  },
  {
   "cell_type": "code",
   "execution_count": 17,
   "metadata": {
    "id": "XJ2q16VBZH-w",
    "outputId": "0e57873a-e029-4ed4-8b13-4786ddf6f77b"
   },
   "outputs": [
    {
     "name": "stdout",
     "output_type": "stream",
     "text": [
      "summary dropped\n",
      "description dropped\n",
      "notes dropped\n",
      "space dropped\n",
      "transit dropped\n",
      "neighborhood_overview dropped\n",
      "access dropped\n",
      "interaction dropped\n",
      "amenities dropped\n"
     ]
    }
   ],
   "source": [
    "# Don't need summary, description ... etc\n",
    "drop_col(lst, 'summary')\n",
    "drop_col(lst, 'description')\n",
    "drop_col(lst, 'note')\n",
    "drop_col(lst, 'space')\n",
    "drop_col(lst, 'transit')\n",
    "drop_col(lst, 'overview')\n",
    "drop_col(lst, 'transit')\n",
    "drop_col(lst, 'access')\n",
    "drop_col(lst, 'interaction')\n",
    "drop_col(lst, 'ameni')"
   ]
  },
  {
   "cell_type": "code",
   "execution_count": 18,
   "metadata": {
    "id": "zY_eH1XgZH-w",
    "outputId": "4c778260-cca2-439a-f730-18da21232252"
   },
   "outputs": [
    {
     "name": "stdout",
     "output_type": "stream",
     "text": [
      "house_rules dropped\n",
      "host_since dropped\n",
      "host_location dropped\n",
      "smart_location dropped\n",
      "is_location_exact dropped\n",
      "review_scores_location dropped\n",
      "host_about dropped\n",
      "host_is_superhost dropped\n",
      "host_has_profile_pic dropped\n",
      "host_listings_count dropped\n",
      "host_total_listings_count dropped\n",
      "calculated_host_listings_count dropped\n",
      "host_neighbourhood dropped\n",
      "host_verifications dropped\n"
     ]
    }
   ],
   "source": [
    "# We only need host response / acceptance\n",
    "drop_col(lst, 'rules')\n",
    "drop_col(lst, 'since')\n",
    "drop_col(lst, 'location')\n",
    "drop_col(lst, 'about')\n",
    "drop_col(lst, 'superhost')\n",
    "drop_col(lst, 'profile_pic')\n",
    "drop_col(lst, '_count')\n",
    "drop_col(lst, 'host_nei')\n",
    "drop_col(lst, 'verifications')"
   ]
  },
  {
   "cell_type": "code",
   "execution_count": 19,
   "metadata": {
    "id": "IB2MF-x5ZH-w",
    "outputId": "bf310695-33eb-40c0-a682-ac8e56c40544"
   },
   "outputs": [
    {
     "name": "stdout",
     "output_type": "stream",
     "text": [
      "longitude dropped\n",
      "latitude dropped\n",
      "street dropped\n",
      "city dropped\n",
      "zipcode dropped\n",
      "market dropped\n"
     ]
    }
   ],
   "source": [
    "# Don't need exact location\n",
    "drop_col(lst, 'longitude')\n",
    "drop_col(lst, 'latitude')\n",
    "drop_col(lst, 'street')\n",
    "drop_col(lst, 'city')\n",
    "drop_col(lst, 'zipcode')\n",
    "drop_col(lst, 'market')\n",
    "lst.drop('neighbourhood', axis=1, inplace=True)"
   ]
  },
  {
   "cell_type": "code",
   "execution_count": 20,
   "metadata": {
    "id": "yDs5TLxpZH-x",
    "outputId": "3649802f-2e88-44d7-db82-2162cf14a167"
   },
   "outputs": [
    {
     "data": {
      "text/plain": [
       "<AxesSubplot:>"
      ]
     },
     "execution_count": 20,
     "metadata": {},
     "output_type": "execute_result"
    },
    {
     "data": {
      "image/png": "[encoded data removed]",
      "text/plain": [
       "<Figure size 432x288 with 2 Axes>"
      ]
     },
     "metadata": {
      "needs_background": "light"
     },
     "output_type": "display_data"
    }
   ],
   "source": [
    "## Check relationship to see \n",
    "sns.heatmap(lst.corr())"
   ]
  },
  {
   "cell_type": "code",
   "execution_count": 21,
   "metadata": {
    "id": "526RjjZHZH-x",
    "outputId": "980403d2-5d08-4f5f-f00c-32a87b87c3ba"
   },
   "outputs": [
    {
     "name": "stdout",
     "output_type": "stream",
     "text": [
      "minimum_nights dropped\n",
      "maximum_nights dropped\n"
     ]
    }
   ],
   "source": [
    "# Remove nights according to corr()\n",
    "drop_col(lst, 'night')"
   ]
  },
  {
   "cell_type": "code",
   "execution_count": 22,
   "metadata": {
    "id": "FwLSxG8lZH-x",
    "outputId": "37160803-33e1-4d75-b711-7c70bc2503c6"
   },
   "outputs": [
    {
     "name": "stdout",
     "output_type": "stream",
     "text": [
      "review_scores_rating dropped\n",
      "review_scores_accuracy dropped\n",
      "review_scores_cleanliness dropped\n",
      "review_scores_checkin dropped\n",
      "review_scores_communication dropped\n",
      "review_scores_value dropped\n"
     ]
    }
   ],
   "source": [
    "# reviews score doesn't seem to have any relationship\n",
    "drop_col(lst, 'scores')"
   ]
  },
  {
   "cell_type": "code",
   "execution_count": 23,
   "metadata": {
    "id": "y4lJSf3QZH-x",
    "outputId": "95678462-c794-49cc-a354-1ab9a7aa91d3"
   },
   "outputs": [
    {
     "name": "stdout",
     "output_type": "stream",
     "text": [
      "availability_60 dropped\n",
      "availability_90 dropped\n",
      "availability_365 dropped\n"
     ]
    }
   ],
   "source": [
    "# out of 3 availability, the 30 one has strongest corr()\n",
    "drop_col(lst, '60')\n",
    "drop_col(lst, '90')\n",
    "drop_col(lst, '365')"
   ]
  },
  {
   "cell_type": "code",
   "execution_count": 24,
   "metadata": {
    "id": "tPuaAZv4ZH-y",
    "outputId": "29a78604-d3da-4f0f-bc38-ed28d677dda0"
   },
   "outputs": [
    {
     "name": "stdout",
     "output_type": "stream",
     "text": [
      "number_of_reviews dropped\n",
      "first_review dropped\n",
      "last_review dropped\n",
      "reviews_per_month dropped\n"
     ]
    }
   ],
   "source": [
    "# Review doens't seem helpful\n",
    "drop_col(lst, 'review')"
   ]
  },
  {
   "cell_type": "code",
   "execution_count": 25,
   "metadata": {
    "id": "59oNSCW_ZH-y",
    "outputId": "a40fcb4c-0642-465a-8620-37014b43702e"
   },
   "outputs": [
    {
     "name": "stdout",
     "output_type": "stream",
     "text": [
      "cancellation_policy dropped\n",
      "instant_bookable dropped\n",
      "calendar_updated dropped\n",
      "security_deposit dropped\n",
      "cleaning_fee dropped\n"
     ]
    }
   ],
   "source": [
    "# last wipe\n",
    "drop_col(lst, 'policy')\n",
    "drop_col(lst, 'instant')\n",
    "drop_col(lst, 'updated')\n",
    "drop_col(lst, 'deposit')\n",
    "drop_col(lst, 'fee')"
   ]
  },
  {
   "cell_type": "code",
   "execution_count": 26,
   "metadata": {
    "id": "R4WEcHAzZH-y",
    "outputId": "17250071-2e6d-4231-ba78-c71bf2c5cb95"
   },
   "outputs": [
    {
     "data": {
      "text/plain": [
       "['host_response_time',\n",
       " 'host_response_rate',\n",
       " 'host_acceptance_rate',\n",
       " 'neighbourhood_cleansed',\n",
       " 'property_type',\n",
       " 'room_type',\n",
       " 'accommodates',\n",
       " 'bathrooms',\n",
       " 'bedrooms',\n",
       " 'beds',\n",
       " 'bed_type',\n",
       " 'price',\n",
       " 'guests_included',\n",
       " 'extra_people',\n",
       " 'availability_30']"
      ]
     },
     "execution_count": 26,
     "metadata": {},
     "output_type": "execute_result"
    }
   ],
   "source": [
    "list(lst.columns)"
   ]
  },
  {
   "cell_type": "code",
   "execution_count": 27,
   "metadata": {
    "id": "ZwS7HoYyZH-z"
   },
   "outputs": [],
   "source": [
    "lst['extra_people'].fillna('$0', inplace=True)                               \n",
    "lst['extra_people'] = lst['extra_people'].apply(price_conv)"
   ]
  },
  {
   "cell_type": "code",
   "execution_count": 28,
   "metadata": {
    "id": "y1CPdP2wZH-z"
   },
   "outputs": [],
   "source": [
    "lst['host_response_rate'].fillna('0%', inplace=True) \n",
    "lst['host_acceptance_rate'].fillna('0%', inplace=True)\n",
    "\n",
    "lst['host_response_rate'] = lst['host_response_rate'].apply(rate_conv)\n",
    "lst['host_acceptance_rate'] = lst['host_acceptance_rate'].apply(rate_conv)"
   ]
  },
  {
   "cell_type": "code",
   "execution_count": 29,
   "metadata": {
    "id": "CAIlalpZZH-z",
    "outputId": "bf5ea440-2b41-4790-a76c-099828541e01"
   },
   "outputs": [
    {
     "data": {
      "text/html": [
       "<div>\n",
       "<style scoped>\n",
       "    .dataframe tbody tr th:only-of-type {\n",
       "        vertical-align: middle;\n",
       "    }\n",
       "\n",
       "    .dataframe tbody tr th {\n",
       "        vertical-align: top;\n",
       "    }\n",
       "\n",
       "    .dataframe thead th {\n",
       "        text-align: right;\n",
       "    }\n",
       "</style>\n",
       "<table border=\"1\" class=\"dataframe\">\n",
       "  <thead>\n",
       "    <tr style=\"text-align: right;\">\n",
       "      <th></th>\n",
       "      <th>host_response_time</th>\n",
       "      <th>host_response_rate</th>\n",
       "      <th>host_acceptance_rate</th>\n",
       "      <th>neighbourhood_cleansed</th>\n",
       "      <th>property_type</th>\n",
       "      <th>room_type</th>\n",
       "      <th>accommodates</th>\n",
       "      <th>bathrooms</th>\n",
       "      <th>bedrooms</th>\n",
       "      <th>beds</th>\n",
       "      <th>bed_type</th>\n",
       "      <th>price</th>\n",
       "      <th>guests_included</th>\n",
       "      <th>extra_people</th>\n",
       "      <th>availability_30</th>\n",
       "    </tr>\n",
       "  </thead>\n",
       "  <tbody>\n",
       "    <tr>\n",
       "      <th>0</th>\n",
       "      <td>NaN</td>\n",
       "      <td>0.0</td>\n",
       "      <td>0.0</td>\n",
       "      <td>Roslindale</td>\n",
       "      <td>House</td>\n",
       "      <td>Entire home/apt</td>\n",
       "      <td>4</td>\n",
       "      <td>1.5</td>\n",
       "      <td>2.0</td>\n",
       "      <td>3.0</td>\n",
       "      <td>Real Bed</td>\n",
       "      <td>250.0</td>\n",
       "      <td>1</td>\n",
       "      <td>0.0</td>\n",
       "      <td>0</td>\n",
       "    </tr>\n",
       "    <tr>\n",
       "      <th>1</th>\n",
       "      <td>within an hour</td>\n",
       "      <td>100.0</td>\n",
       "      <td>100.0</td>\n",
       "      <td>Roslindale</td>\n",
       "      <td>Apartment</td>\n",
       "      <td>Private room</td>\n",
       "      <td>2</td>\n",
       "      <td>1.0</td>\n",
       "      <td>1.0</td>\n",
       "      <td>1.0</td>\n",
       "      <td>Real Bed</td>\n",
       "      <td>65.0</td>\n",
       "      <td>0</td>\n",
       "      <td>0.0</td>\n",
       "      <td>26</td>\n",
       "    </tr>\n",
       "    <tr>\n",
       "      <th>2</th>\n",
       "      <td>within a few hours</td>\n",
       "      <td>100.0</td>\n",
       "      <td>88.0</td>\n",
       "      <td>Roslindale</td>\n",
       "      <td>Apartment</td>\n",
       "      <td>Private room</td>\n",
       "      <td>2</td>\n",
       "      <td>1.0</td>\n",
       "      <td>1.0</td>\n",
       "      <td>1.0</td>\n",
       "      <td>Real Bed</td>\n",
       "      <td>65.0</td>\n",
       "      <td>1</td>\n",
       "      <td>20.0</td>\n",
       "      <td>19</td>\n",
       "    </tr>\n",
       "    <tr>\n",
       "      <th>3</th>\n",
       "      <td>within a few hours</td>\n",
       "      <td>100.0</td>\n",
       "      <td>50.0</td>\n",
       "      <td>Roslindale</td>\n",
       "      <td>House</td>\n",
       "      <td>Private room</td>\n",
       "      <td>4</td>\n",
       "      <td>1.0</td>\n",
       "      <td>1.0</td>\n",
       "      <td>2.0</td>\n",
       "      <td>Real Bed</td>\n",
       "      <td>75.0</td>\n",
       "      <td>2</td>\n",
       "      <td>25.0</td>\n",
       "      <td>6</td>\n",
       "    </tr>\n",
       "    <tr>\n",
       "      <th>4</th>\n",
       "      <td>within an hour</td>\n",
       "      <td>100.0</td>\n",
       "      <td>100.0</td>\n",
       "      <td>Roslindale</td>\n",
       "      <td>House</td>\n",
       "      <td>Private room</td>\n",
       "      <td>2</td>\n",
       "      <td>1.5</td>\n",
       "      <td>1.0</td>\n",
       "      <td>2.0</td>\n",
       "      <td>Real Bed</td>\n",
       "      <td>79.0</td>\n",
       "      <td>1</td>\n",
       "      <td>0.0</td>\n",
       "      <td>13</td>\n",
       "    </tr>\n",
       "  </tbody>\n",
       "</table>\n",
       "</div>"
      ],
      "text/plain": [
       "   host_response_time  host_response_rate  host_acceptance_rate  \\\n",
       "0                 NaN                 0.0                   0.0   \n",
       "1      within an hour               100.0                 100.0   \n",
       "2  within a few hours               100.0                  88.0   \n",
       "3  within a few hours               100.0                  50.0   \n",
       "4      within an hour               100.0                 100.0   \n",
       "\n",
       "  neighbourhood_cleansed property_type        room_type  accommodates  \\\n",
       "0             Roslindale         House  Entire home/apt             4   \n",
       "1             Roslindale     Apartment     Private room             2   \n",
       "2             Roslindale     Apartment     Private room             2   \n",
       "3             Roslindale         House     Private room             4   \n",
       "4             Roslindale         House     Private room             2   \n",
       "\n",
       "   bathrooms  bedrooms  beds  bed_type  price  guests_included  extra_people  \\\n",
       "0        1.5       2.0   3.0  Real Bed  250.0                1           0.0   \n",
       "1        1.0       1.0   1.0  Real Bed   65.0                0           0.0   \n",
       "2        1.0       1.0   1.0  Real Bed   65.0                1          20.0   \n",
       "3        1.0       1.0   2.0  Real Bed   75.0                2          25.0   \n",
       "4        1.5       1.0   2.0  Real Bed   79.0                1           0.0   \n",
       "\n",
       "   availability_30  \n",
       "0                0  \n",
       "1               26  \n",
       "2               19  \n",
       "3                6  \n",
       "4               13  "
      ]
     },
     "execution_count": 29,
     "metadata": {},
     "output_type": "execute_result"
    }
   ],
   "source": [
    "lst.head()"
   ]
  },
  {
   "cell_type": "code",
   "execution_count": 30,
   "metadata": {
    "id": "pUGgAq98ZH-z",
    "outputId": "7db201f7-7fef-47c7-8390-47ebe7ab8f7e"
   },
   "outputs": [
    {
     "data": {
      "text/plain": [
       "<AxesSubplot:>"
      ]
     },
     "execution_count": 30,
     "metadata": {},
     "output_type": "execute_result"
    },
    {
     "data": {
      "image/png": "[encoded data removed]",
      "text/plain": [
       "<Figure size 432x288 with 2 Axes>"
      ]
     },
     "metadata": {
      "needs_background": "light"
     },
     "output_type": "display_data"
    }
   ],
   "source": [
    "sns.heatmap(lst.corr())"
   ]
  },
  {
   "cell_type": "code",
   "execution_count": 31,
   "metadata": {
    "id": "Y-LbVMG3ZH-0"
   },
   "outputs": [],
   "source": [
    "lst.dropna(inplace=True)"
   ]
  },
  {
   "cell_type": "markdown",
   "metadata": {
    "id": "0wBw27L3ZH-0"
   },
   "source": [
    "### 2. Categorical Encoding"
   ]
  },
  {
   "cell_type": "code",
   "execution_count": 32,
   "metadata": {
    "id": "bdoXwPeeZH-0",
    "outputId": "44cb275a-7518-4340-bfa0-2ea74bdb45a6"
   },
   "outputs": [
    {
     "name": "stdout",
     "output_type": "stream",
     "text": [
      "<class 'pandas.core.frame.DataFrame'>\n",
      "Int64Index: 3086 entries, 1 to 3584\n",
      "Data columns (total 15 columns):\n",
      " #   Column                  Non-Null Count  Dtype  \n",
      "---  ------                  --------------  -----  \n",
      " 0   host_response_time      3086 non-null   object \n",
      " 1   host_response_rate      3086 non-null   float64\n",
      " 2   host_acceptance_rate    3086 non-null   float64\n",
      " 3   neighbourhood_cleansed  3086 non-null   object \n",
      " 4   property_type           3086 non-null   object \n",
      " 5   room_type               3086 non-null   object \n",
      " 6   accommodates            3086 non-null   int64  \n",
      " 7   bathrooms               3086 non-null   float64\n",
      " 8   bedrooms                3086 non-null   float64\n",
      " 9   beds                    3086 non-null   float64\n",
      " 10  bed_type                3086 non-null   object \n",
      " 11  price                   3086 non-null   float64\n",
      " 12  guests_included         3086 non-null   int64  \n",
      " 13  extra_people            3086 non-null   float64\n",
      " 14  availability_30         3086 non-null   int64  \n",
      "dtypes: float64(7), int64(3), object(5)\n",
      "memory usage: 385.8+ KB\n"
     ]
    }
   ],
   "source": [
    "lst.info()"
   ]
  },
  {
   "cell_type": "code",
   "execution_count": 33,
   "metadata": {
    "id": "86HxYWRCZH-0"
   },
   "outputs": [],
   "source": [
    "# instantiatae label encoder\n",
    "le = LabelEncoder()"
   ]
  },
  {
   "cell_type": "code",
   "execution_count": 34,
   "metadata": {
    "id": "8skm90wTZH-1",
    "outputId": "1ed2188e-e1b4-4dd1-947b-82b12472cf34"
   },
   "outputs": [
    {
     "data": {
      "text/plain": [
       "Entire home/apt    1855\n",
       "Private room       1163\n",
       "Shared room          68\n",
       "Name: room_type, dtype: int64"
      ]
     },
     "execution_count": 34,
     "metadata": {},
     "output_type": "execute_result"
    }
   ],
   "source": [
    "lst['room_type'].value_counts()"
   ]
  },
  {
   "cell_type": "code",
   "execution_count": 35,
   "metadata": {
    "id": "m_2JgrsYZH-1",
    "outputId": "55ecbc66-a5ff-42fe-f2f9-e848e9bcb43d"
   },
   "outputs": [
    {
     "data": {
      "text/plain": [
       "['host_response_time',\n",
       " 'neighbourhood_cleansed',\n",
       " 'property_type',\n",
       " 'room_type',\n",
       " 'bed_type']"
      ]
     },
     "execution_count": 35,
     "metadata": {},
     "output_type": "execute_result"
    }
   ],
   "source": [
    "cat = list(lst.select_dtypes(include='object').columns)\n",
    "cat"
   ]
  },
  {
   "cell_type": "code",
   "execution_count": 36,
   "metadata": {
    "id": "jk2klG7YZH-1"
   },
   "outputs": [],
   "source": [
    "for c in cat:\n",
    "    lst[c] = le.fit_transform(lst[c])\n",
    "    lst[c].unique()"
   ]
  },
  {
   "cell_type": "code",
   "execution_count": 37,
   "metadata": {
    "id": "TH3Du23vZH-1",
    "outputId": "61fb312a-c550-4667-c06e-1e6218147539"
   },
   "outputs": [
    {
     "data": {
      "text/plain": [
       "0    1855\n",
       "1    1163\n",
       "2      68\n",
       "Name: room_type, dtype: int64"
      ]
     },
     "execution_count": 37,
     "metadata": {},
     "output_type": "execute_result"
    }
   ],
   "source": [
    "lst['room_type'].value_counts()"
   ]
  },
  {
   "cell_type": "markdown",
   "metadata": {
    "id": "-0LIsa-4ZH-2"
   },
   "source": [
    "### 3. Data Scaling"
   ]
  },
  {
   "cell_type": "code",
   "execution_count": 38,
   "metadata": {
    "id": "RXtsEvKSZH-2",
    "outputId": "9925495b-aa7a-483f-ec63-6edeaaf8dd0d"
   },
   "outputs": [
    {
     "data": {
      "text/html": [
       "<div>\n",
       "<style scoped>\n",
       "    .dataframe tbody tr th:only-of-type {\n",
       "        vertical-align: middle;\n",
       "    }\n",
       "\n",
       "    .dataframe tbody tr th {\n",
       "        vertical-align: top;\n",
       "    }\n",
       "\n",
       "    .dataframe thead th {\n",
       "        text-align: right;\n",
       "    }\n",
       "</style>\n",
       "<table border=\"1\" class=\"dataframe\">\n",
       "  <thead>\n",
       "    <tr style=\"text-align: right;\">\n",
       "      <th></th>\n",
       "      <th>host_response_time</th>\n",
       "      <th>host_response_rate</th>\n",
       "      <th>host_acceptance_rate</th>\n",
       "      <th>neighbourhood_cleansed</th>\n",
       "      <th>property_type</th>\n",
       "      <th>room_type</th>\n",
       "      <th>accommodates</th>\n",
       "      <th>bathrooms</th>\n",
       "      <th>bedrooms</th>\n",
       "      <th>beds</th>\n",
       "      <th>bed_type</th>\n",
       "      <th>price</th>\n",
       "      <th>guests_included</th>\n",
       "      <th>extra_people</th>\n",
       "      <th>availability_30</th>\n",
       "    </tr>\n",
       "  </thead>\n",
       "  <tbody>\n",
       "    <tr>\n",
       "      <th>0</th>\n",
       "      <td>0.961319</td>\n",
       "      <td>0.398039</td>\n",
       "      <td>0.722517</td>\n",
       "      <td>1.00953</td>\n",
       "      <td>-0.567467</td>\n",
       "      <td>1.079367</td>\n",
       "      <td>-0.603790</td>\n",
       "      <td>-0.447278</td>\n",
       "      <td>-0.344302</td>\n",
       "      <td>-0.606131</td>\n",
       "      <td>0.178012</td>\n",
       "      <td>-0.909484</td>\n",
       "      <td>-1.331900</td>\n",
       "      <td>-0.589260</td>\n",
       "      <td>1.562847</td>\n",
       "    </tr>\n",
       "    <tr>\n",
       "      <th>1</th>\n",
       "      <td>-0.351930</td>\n",
       "      <td>0.398039</td>\n",
       "      <td>0.169873</td>\n",
       "      <td>1.00953</td>\n",
       "      <td>-0.567467</td>\n",
       "      <td>1.079367</td>\n",
       "      <td>-0.603790</td>\n",
       "      <td>-0.447278</td>\n",
       "      <td>-0.344302</td>\n",
       "      <td>-0.606131</td>\n",
       "      <td>0.178012</td>\n",
       "      <td>-0.909484</td>\n",
       "      <td>-0.421749</td>\n",
       "      <td>0.426609</td>\n",
       "      <td>0.897377</td>\n",
       "    </tr>\n",
       "    <tr>\n",
       "      <th>2</th>\n",
       "      <td>-0.351930</td>\n",
       "      <td>0.398039</td>\n",
       "      <td>-1.580166</td>\n",
       "      <td>1.00953</td>\n",
       "      <td>1.810040</td>\n",
       "      <td>1.079367</td>\n",
       "      <td>0.495176</td>\n",
       "      <td>-0.447278</td>\n",
       "      <td>-0.344302</td>\n",
       "      <td>0.353110</td>\n",
       "      <td>0.178012</td>\n",
       "      <td>-0.823948</td>\n",
       "      <td>0.488403</td>\n",
       "      <td>0.680576</td>\n",
       "      <td>-0.338496</td>\n",
       "    </tr>\n",
       "    <tr>\n",
       "      <th>3</th>\n",
       "      <td>0.961319</td>\n",
       "      <td>0.398039</td>\n",
       "      <td>0.722517</td>\n",
       "      <td>1.00953</td>\n",
       "      <td>1.810040</td>\n",
       "      <td>1.079367</td>\n",
       "      <td>-0.603790</td>\n",
       "      <td>0.524080</td>\n",
       "      <td>-0.344302</td>\n",
       "      <td>0.353110</td>\n",
       "      <td>0.178012</td>\n",
       "      <td>-0.789733</td>\n",
       "      <td>-0.421749</td>\n",
       "      <td>-0.589260</td>\n",
       "      <td>0.326974</td>\n",
       "    </tr>\n",
       "    <tr>\n",
       "      <th>4</th>\n",
       "      <td>-0.351930</td>\n",
       "      <td>0.398039</td>\n",
       "      <td>0.492249</td>\n",
       "      <td>1.00953</td>\n",
       "      <td>0.451464</td>\n",
       "      <td>1.079367</td>\n",
       "      <td>-0.603790</td>\n",
       "      <td>-0.447278</td>\n",
       "      <td>-0.344302</td>\n",
       "      <td>-0.606131</td>\n",
       "      <td>0.178012</td>\n",
       "      <td>-0.823948</td>\n",
       "      <td>-0.421749</td>\n",
       "      <td>-0.589260</td>\n",
       "      <td>-0.433563</td>\n",
       "    </tr>\n",
       "  </tbody>\n",
       "</table>\n",
       "</div>"
      ],
      "text/plain": [
       "   host_response_time  host_response_rate  host_acceptance_rate  \\\n",
       "0            0.961319            0.398039              0.722517   \n",
       "1           -0.351930            0.398039              0.169873   \n",
       "2           -0.351930            0.398039             -1.580166   \n",
       "3            0.961319            0.398039              0.722517   \n",
       "4           -0.351930            0.398039              0.492249   \n",
       "\n",
       "   neighbourhood_cleansed  property_type  room_type  accommodates  bathrooms  \\\n",
       "0                 1.00953      -0.567467   1.079367     -0.603790  -0.447278   \n",
       "1                 1.00953      -0.567467   1.079367     -0.603790  -0.447278   \n",
       "2                 1.00953       1.810040   1.079367      0.495176  -0.447278   \n",
       "3                 1.00953       1.810040   1.079367     -0.603790   0.524080   \n",
       "4                 1.00953       0.451464   1.079367     -0.603790  -0.447278   \n",
       "\n",
       "   bedrooms      beds  bed_type     price  guests_included  extra_people  \\\n",
       "0 -0.344302 -0.606131  0.178012 -0.909484        -1.331900     -0.589260   \n",
       "1 -0.344302 -0.606131  0.178012 -0.909484        -0.421749      0.426609   \n",
       "2 -0.344302  0.353110  0.178012 -0.823948         0.488403      0.680576   \n",
       "3 -0.344302  0.353110  0.178012 -0.789733        -0.421749     -0.589260   \n",
       "4 -0.344302 -0.606131  0.178012 -0.823948        -0.421749     -0.589260   \n",
       "\n",
       "   availability_30  \n",
       "0         1.562847  \n",
       "1         0.897377  \n",
       "2        -0.338496  \n",
       "3         0.326974  \n",
       "4        -0.433563  "
      ]
     },
     "execution_count": 38,
     "metadata": {},
     "output_type": "execute_result"
    }
   ],
   "source": [
    "scaler = preprocessing.StandardScaler()\n",
    "scale_df = pd.DataFrame(scaler.fit_transform(lst))\n",
    "scale_df.columns = lst.columns\n",
    "scale_df.head()"
   ]
  },
  {
   "cell_type": "markdown",
   "metadata": {
    "id": "ZDtfUeb8ZH-2"
   },
   "source": [
    "### 4.1 Model Training - Data Splitting"
   ]
  },
  {
   "cell_type": "code",
   "execution_count": 82,
   "metadata": {
    "id": "PaxAhvRnZH-2"
   },
   "outputs": [],
   "source": [
    "#X =  lst.drop('price', axis=1)\n",
    "X = lst[['bathrooms', 'bedrooms', 'room_type']]\n",
    "y = lst['price']\n",
    "\n",
    "X_train, X_test, y_train, y_test = train_test_split(X, y, test_size = 0.95)"
   ]
  },
  {
   "cell_type": "markdown",
   "metadata": {
    "id": "cyqy5PDOZH-2"
   },
   "source": [
    "###  4.2 Model Traing - Data Modeling"
   ]
  },
  {
   "cell_type": "code",
   "execution_count": 83,
   "metadata": {
    "id": "tgJQGisiZH-3"
   },
   "outputs": [],
   "source": [
    "# instantiate\n",
    "lr = LinearRegression(normalize=True)\n",
    "\n",
    "# fitting\n",
    "lr.fit(X_train, y_train)\n",
    "\n",
    "# predict\n",
    "y_pred = lr.predict(X_test)\n",
    "\n",
    "# R^2\n",
    "r2_test = r2_score(y_test, y_pred)"
   ]
  },
  {
   "cell_type": "code",
   "execution_count": 84,
   "metadata": {},
   "outputs": [
    {
     "data": {
      "text/plain": [
       "0.26804331574195317"
      ]
     },
     "execution_count": 84,
     "metadata": {},
     "output_type": "execute_result"
    }
   ],
   "source": [
    "r2_test"
   ]
  },
  {
   "cell_type": "code",
   "execution_count": 85,
   "metadata": {},
   "outputs": [],
   "source": [
    "# save preprocessing objects and RF algorithm\n",
    "\n",
    "filename='ml_model.pkl'\n",
    "pickle.dump(lr, open(filename, 'wb'))"
   ]
  },
  {
   "cell_type": "code",
   "execution_count": 86,
   "metadata": {},
   "outputs": [
    {
     "data": {
      "text/html": [
       "<div>\n",
       "<style scoped>\n",
       "    .dataframe tbody tr th:only-of-type {\n",
       "        vertical-align: middle;\n",
       "    }\n",
       "\n",
       "    .dataframe tbody tr th {\n",
       "        vertical-align: top;\n",
       "    }\n",
       "\n",
       "    .dataframe thead th {\n",
       "        text-align: right;\n",
       "    }\n",
       "</style>\n",
       "<table border=\"1\" class=\"dataframe\">\n",
       "  <thead>\n",
       "    <tr style=\"text-align: right;\">\n",
       "      <th></th>\n",
       "      <th>bathrooms</th>\n",
       "      <th>bedrooms</th>\n",
       "      <th>room_type</th>\n",
       "    </tr>\n",
       "  </thead>\n",
       "  <tbody>\n",
       "    <tr>\n",
       "      <th>606</th>\n",
       "      <td>2.0</td>\n",
       "      <td>2.0</td>\n",
       "      <td>0</td>\n",
       "    </tr>\n",
       "    <tr>\n",
       "      <th>813</th>\n",
       "      <td>1.0</td>\n",
       "      <td>1.0</td>\n",
       "      <td>0</td>\n",
       "    </tr>\n",
       "    <tr>\n",
       "      <th>1854</th>\n",
       "      <td>1.5</td>\n",
       "      <td>3.0</td>\n",
       "      <td>0</td>\n",
       "    </tr>\n",
       "    <tr>\n",
       "      <th>1028</th>\n",
       "      <td>1.0</td>\n",
       "      <td>1.0</td>\n",
       "      <td>0</td>\n",
       "    </tr>\n",
       "    <tr>\n",
       "      <th>593</th>\n",
       "      <td>2.0</td>\n",
       "      <td>2.0</td>\n",
       "      <td>0</td>\n",
       "    </tr>\n",
       "    <tr>\n",
       "      <th>...</th>\n",
       "      <td>...</td>\n",
       "      <td>...</td>\n",
       "      <td>...</td>\n",
       "    </tr>\n",
       "    <tr>\n",
       "      <th>2305</th>\n",
       "      <td>1.0</td>\n",
       "      <td>2.0</td>\n",
       "      <td>0</td>\n",
       "    </tr>\n",
       "    <tr>\n",
       "      <th>96</th>\n",
       "      <td>2.0</td>\n",
       "      <td>3.0</td>\n",
       "      <td>0</td>\n",
       "    </tr>\n",
       "    <tr>\n",
       "      <th>2243</th>\n",
       "      <td>2.0</td>\n",
       "      <td>2.0</td>\n",
       "      <td>0</td>\n",
       "    </tr>\n",
       "    <tr>\n",
       "      <th>803</th>\n",
       "      <td>1.0</td>\n",
       "      <td>1.0</td>\n",
       "      <td>1</td>\n",
       "    </tr>\n",
       "    <tr>\n",
       "      <th>780</th>\n",
       "      <td>1.0</td>\n",
       "      <td>1.0</td>\n",
       "      <td>1</td>\n",
       "    </tr>\n",
       "  </tbody>\n",
       "</table>\n",
       "<p>2932 rows × 3 columns</p>\n",
       "</div>"
      ],
      "text/plain": [
       "      bathrooms  bedrooms  room_type\n",
       "606         2.0       2.0          0\n",
       "813         1.0       1.0          0\n",
       "1854        1.5       3.0          0\n",
       "1028        1.0       1.0          0\n",
       "593         2.0       2.0          0\n",
       "...         ...       ...        ...\n",
       "2305        1.0       2.0          0\n",
       "96          2.0       3.0          0\n",
       "2243        2.0       2.0          0\n",
       "803         1.0       1.0          1\n",
       "780         1.0       1.0          1\n",
       "\n",
       "[2932 rows x 3 columns]"
      ]
     },
     "execution_count": 86,
     "metadata": {},
     "output_type": "execute_result"
    }
   ],
   "source": [
    "X_test"
   ]
  },
  {
   "cell_type": "code",
   "execution_count": 87,
   "metadata": {
    "id": "c0lcllCiZH-3",
    "scrolled": true
   },
   "outputs": [],
   "source": [
    "coef = lr.coef_\n",
    "index = np.argsort((coef))"
   ]
  },
  {
   "cell_type": "code",
   "execution_count": 88,
   "metadata": {
    "id": "Ygj4BueJZH-3",
    "outputId": "691aa5bb-a3af-428a-c973-5c614bc89270"
   },
   "outputs": [
    {
     "data": {
      "image/png": "[encoded data removed]",
      "text/plain": [
       "<Figure size 936x1080 with 1 Axes>"
      ]
     },
     "metadata": {
      "needs_background": "light"
     },
     "output_type": "display_data"
    }
   ],
   "source": [
    "x = range(len(X.columns))\n",
    "y = coef[index][:len(X.columns)]\n",
    "\n",
    "plt.figure(figsize=(13,15))\n",
    "ax = plt.subplot()\n",
    "\n",
    "ax.set_xticks(x)\n",
    "ax.set_xticklabels(X.columns[index][:len(X.columns)], rotation=90)\n",
    "ax.set_title('Linear Regression Correlation')\n",
    "plt.bar(x, y, color=sns.color_palette('pastel'),align='center')\n",
    "\n",
    "# Make some labels.\n",
    "for rect, label in zip(ax.patches, y):\n",
    "    height = rect.get_height()\n",
    "    ax.text(\n",
    "        rect.get_x() + rect.get_width() / 2, \n",
    "        height + 3, \n",
    "        '{:.2f}'.format(label),\n",
    "        ha='center', va='bottom'\n",
    "    )\n",
    "plt.show()"
   ]
  },
  {
   "cell_type": "markdown",
   "metadata": {
    "id": "fpH0LouYcJVc"
   },
   "source": [
    "Result / Conclusion: \n",
    "- Room type has the most influence on price. The reason why it's negative is because when I do label encode, apartment=0, privateroom=1, shareroom=2. The bigger the room, the higher the price or the lower the number, the higher the room.\n",
    "- Accommodations in general is the second most influence features that affect the price"
   ]
  },
  {
   "cell_type": "code",
   "execution_count": 89,
   "metadata": {
    "id": "PfCOI-JrZH-3"
   },
   "outputs": [
    {
     "data": {
      "text/plain": [
       "array([282.79778646])"
      ]
     },
     "execution_count": 89,
     "metadata": {},
     "output_type": "execute_result"
    }
   ],
   "source": [
    "pred = lr.predict([[1, 3, 0]])\n",
    "pred"
   ]
  },
  {
   "cell_type": "code",
   "execution_count": null,
   "metadata": {},
   "outputs": [],
   "source": []
  }
 ],
 "metadata": {
  "colab": {
   "name": "CRISP-DM.ipynb",
   "provenance": []
  },
  "kernelspec": {
   "display_name": "Python 3 (ipykernel)",
   "language": "python",
   "name": "python3"
  },
  "language_info": {
   "codemirror_mode": {
    "name": "ipython",
    "version": 3
   },
   "file_extension": ".py",
   "mimetype": "text/x-python",
   "name": "python",
   "nbconvert_exporter": "python",
   "pygments_lexer": "ipython3",
   "version": "3.9.7"
  }
 },
 "nbformat": 4,
 "nbformat_minor": 1
}
